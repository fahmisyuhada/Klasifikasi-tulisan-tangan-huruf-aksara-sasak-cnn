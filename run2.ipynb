{
  "nbformat": 4,
  "nbformat_minor": 0,
  "metadata": {
    "colab": {
      "provenance": [],
      "include_colab_link": true
    },
    "kernelspec": {
      "name": "python3",
      "display_name": "Python 3"
    },
    "language_info": {
      "name": "python"
    }
  },
  "cells": [
    {
      "cell_type": "markdown",
      "metadata": {
        "id": "view-in-github",
        "colab_type": "text"
      },
      "source": [
        "<a href=\"https://colab.research.google.com/github/fahmisyuhada/Klasifikasi-tulisan-tangan-huruf-aksara-sasak-cnn/blob/main/run2.ipynb\" target=\"_parent\"><img src=\"https://colab.research.google.com/assets/colab-badge.svg\" alt=\"Open In Colab\"/></a>"
      ]
    },
    {
      "cell_type": "code",
      "execution_count": 1,
      "metadata": {
        "id": "sdm_0Fb97xDt",
        "outputId": "9c1186d5-6bf3-4f8d-eb32-72c749059635",
        "colab": {
          "base_uri": "https://localhost:8080/"
        }
      },
      "outputs": [
        {
          "output_type": "stream",
          "name": "stdout",
          "text": [
            "Cloning into 'projek'...\n",
            "remote: Enumerating objects: 18, done.\u001b[K\n",
            "remote: Counting objects: 100% (18/18), done.\u001b[K\n",
            "remote: Compressing objects: 100% (17/17), done.\u001b[K\n",
            "remote: Total 18 (delta 6), reused 0 (delta 0), pack-reused 0\u001b[K\n",
            "Receiving objects: 100% (18/18), 3.98 MiB | 7.27 MiB/s, done.\n",
            "Resolving deltas: 100% (6/6), done.\n",
            "dataset unzip successfully\n"
          ]
        }
      ],
      "source": [
        "!git clone https://github.com/fahmisyuhada/Klasifikasi-tulisan-tangan-huruf-aksara-sasak-cnn.git projek\n",
        "import zipfile\n",
        "\n",
        "data_set = zipfile.ZipFile('projek/character_with_bouding_box.zip', 'r')\n",
        "\n",
        "data_set.extractall()\n",
        "data_set.close()\n",
        "print('dataset unzip successfully')"
      ]
    },
    {
      "cell_type": "code",
      "source": [
        "import numpy as np\n",
        "np.random.seed\n",
        "\n",
        "import cv2\n",
        "import os\n",
        "from PIL import Image\n",
        "import keras\n",
        "\n",
        "from sklearn.model_selection import train_test_split\n",
        "from keras.utils import to_categorical\n",
        "\n",
        "os.environ['KERAS_BACKEND'] = 'tensorflow'\n",
        "\n",
        "image_directory = 'karakter3/'\n",
        "SIZE = 64\n",
        "dataset = []\n",
        "label = []\n",
        "\n",
        "karakter = [['ha',0], ['na',1], ['ca',2], ['ra',3], ['ka',4],\n",
        " ['da',5], ['ta',6], ['sa',7], ['wa',8], ['la',9],\n",
        "  ['ma',10], ['ga',11], ['ba',12], ['nga',13], ['pa',14],\n",
        "   ['ja',15], ['ya',16], ['nya',17]]\n",
        "\n",
        "for char in karakter:\n",
        "  for i, image_name in enumerate(os.listdir(image_directory + char[0] + '/')):\n",
        "    if(image_name.split('.')[1] == 'jpeg'):\n",
        "      image = cv2.imread(image_directory + char[0] + '/' + image_name)\n",
        "      image = Image.fromarray(image, 'RGB')\n",
        "      image = image.resize((SIZE, SIZE))\n",
        "      dataset.append(np.array(image))\n",
        "      label.append(char[1])\n"
      ],
      "metadata": {
        "id": "jCzG8Hd-M8HO"
      },
      "execution_count": 2,
      "outputs": []
    },
    {
      "cell_type": "code",
      "source": [
        "X_train, X_test, y_train, y_test = train_test_split(dataset, to_categorical(np.array(label)), test_size = 0.20, random_state = 0)"
      ],
      "metadata": {
        "id": "k7P27tJcWAIu"
      },
      "execution_count": 3,
      "outputs": []
    },
    {
      "cell_type": "code",
      "source": [
        "###########################################\n",
        "### Second : Using Sequential model #######\n",
        "#Sequential\n",
        "#You can create a Sequential model by passing a list of layer instances to the constructor:\n",
        "\n",
        "from keras.layers import Convolution2D, MaxPooling2D, Flatten, Dense, BatchNormalization, Dropout\n",
        "from keras.models import Sequential\n",
        "\n",
        "model = None\n",
        "model = Sequential()\n",
        "model.add(Convolution2D(32, (3, 3), input_shape = (SIZE, SIZE, 3), activation = 'relu', data_format='channels_last'))\n",
        "model.add(MaxPooling2D(pool_size = (2, 2), data_format=\"channels_last\"))\n",
        "model.add(BatchNormalization(axis = -1))\n",
        "model.add(Dropout(0.2))\n",
        "model.add(Convolution2D(32, (3, 3), activation = 'relu'))\n",
        "model.add(MaxPooling2D(pool_size = (2, 2), data_format=\"channels_last\"))\n",
        "model.add(BatchNormalization(axis = -1))\n",
        "model.add(Dropout(0.2))\n",
        "model.add(Flatten())\n",
        "model.add(Dense(activation = 'relu', units=512))\n",
        "model.add(BatchNormalization(axis = -1))\n",
        "model.add(Dropout(0.2))\n",
        "model.add(Dense(activation = 'relu', units=256))\n",
        "model.add(BatchNormalization(axis = -1))\n",
        "model.add(Dropout(0.2))\n",
        "model.add(Dense(activation = 'sigmoid', units=5))\n",
        "model.compile(optimizer = 'adam', loss = 'categorical_crossentropy', metrics = ['accuracy'])\n",
        "print(model.summary())\n"
      ],
      "metadata": {
        "id": "-8uUZLO6Sjzc",
        "outputId": "2b326c3f-de99-4615-db8b-58a8f77c79a7",
        "colab": {
          "base_uri": "https://localhost:8080/"
        }
      },
      "execution_count": 4,
      "outputs": [
        {
          "output_type": "stream",
          "name": "stdout",
          "text": [
            "Model: \"sequential\"\n",
            "_________________________________________________________________\n",
            " Layer (type)                Output Shape              Param #   \n",
            "=================================================================\n",
            " conv2d (Conv2D)             (None, 62, 62, 32)        896       \n",
            "                                                                 \n",
            " max_pooling2d (MaxPooling2  (None, 31, 31, 32)        0         \n",
            " D)                                                              \n",
            "                                                                 \n",
            " batch_normalization (Batch  (None, 31, 31, 32)        128       \n",
            " Normalization)                                                  \n",
            "                                                                 \n",
            " dropout (Dropout)           (None, 31, 31, 32)        0         \n",
            "                                                                 \n",
            " conv2d_1 (Conv2D)           (None, 29, 29, 32)        9248      \n",
            "                                                                 \n",
            " max_pooling2d_1 (MaxPoolin  (None, 14, 14, 32)        0         \n",
            " g2D)                                                            \n",
            "                                                                 \n",
            " batch_normalization_1 (Bat  (None, 14, 14, 32)        128       \n",
            " chNormalization)                                                \n",
            "                                                                 \n",
            " dropout_1 (Dropout)         (None, 14, 14, 32)        0         \n",
            "                                                                 \n",
            " flatten (Flatten)           (None, 6272)              0         \n",
            "                                                                 \n",
            " dense (Dense)               (None, 512)               3211776   \n",
            "                                                                 \n",
            " batch_normalization_2 (Bat  (None, 512)               2048      \n",
            " chNormalization)                                                \n",
            "                                                                 \n",
            " dropout_2 (Dropout)         (None, 512)               0         \n",
            "                                                                 \n",
            " dense_1 (Dense)             (None, 256)               131328    \n",
            "                                                                 \n",
            " batch_normalization_3 (Bat  (None, 256)               1024      \n",
            " chNormalization)                                                \n",
            "                                                                 \n",
            " dropout_3 (Dropout)         (None, 256)               0         \n",
            "                                                                 \n",
            " dense_2 (Dense)             (None, 5)                 1285      \n",
            "                                                                 \n",
            "=================================================================\n",
            "Total params: 3357861 (12.81 MB)\n",
            "Trainable params: 3356197 (12.80 MB)\n",
            "Non-trainable params: 1664 (6.50 KB)\n",
            "_________________________________________________________________\n",
            "None\n"
          ]
        }
      ]
    },
    {
      "cell_type": "code",
      "source": [
        "#import datetime\n",
        "\n",
        "#log_dir=\"logs/fit/\" + datetime.datetime.now().strftime(\"%Y%m%d_%H%M%S\") + \"/\"\n",
        "#tensorboard_callback = keras.callbacks.TensorBoard(log_dir=log_dir, histogram_freq=1)\n",
        "\n",
        "\n",
        "# ### Training the model\n",
        "# As the training data is now ready, I will use it to train the model.\n",
        "\n",
        "#Fit the model\n",
        "history = model.fit(np.array(X_train),\n",
        "                         y_train,\n",
        "                         batch_size = 64,\n",
        "                         verbose = 1,\n",
        "                         epochs = 25,      #Changed to 3 from 50 for testing purposes.\n",
        "                         validation_split = 0.1,\n",
        "                         shuffle = False\n",
        "                     )\n",
        "\n",
        "# ## Accuracy calculation\n",
        "#\n",
        "# I'll now calculate the accuracy on the test data.\n"
      ],
      "metadata": {
        "id": "MHfmqKvnWK1z",
        "outputId": "1fdc7bef-44b3-4171-8258-5504fdd0af4e",
        "colab": {
          "base_uri": "https://localhost:8080/"
        }
      },
      "execution_count": 5,
      "outputs": [
        {
          "output_type": "stream",
          "name": "stdout",
          "text": [
            "Epoch 1/25\n",
            "4/4 [==============================] - 8s 894ms/step - loss: 1.5055 - accuracy: 0.4980 - val_loss: 28.7230 - val_accuracy: 0.2500\n",
            "Epoch 2/25\n",
            "4/4 [==============================] - 2s 391ms/step - loss: 0.1776 - accuracy: 0.9388 - val_loss: 22.4583 - val_accuracy: 0.2500\n",
            "Epoch 3/25\n",
            "4/4 [==============================] - 1s 288ms/step - loss: 0.0676 - accuracy: 0.9959 - val_loss: 16.7415 - val_accuracy: 0.2857\n",
            "Epoch 4/25\n",
            "4/4 [==============================] - 1s 327ms/step - loss: 0.0534 - accuracy: 1.0000 - val_loss: 12.4638 - val_accuracy: 0.2857\n",
            "Epoch 5/25\n",
            "4/4 [==============================] - 1s 301ms/step - loss: 0.0267 - accuracy: 1.0000 - val_loss: 9.7097 - val_accuracy: 0.3214\n",
            "Epoch 6/25\n",
            "4/4 [==============================] - 1s 280ms/step - loss: 0.0192 - accuracy: 1.0000 - val_loss: 7.8214 - val_accuracy: 0.3571\n",
            "Epoch 7/25\n",
            "4/4 [==============================] - 1s 314ms/step - loss: 0.0107 - accuracy: 1.0000 - val_loss: 6.6507 - val_accuracy: 0.3214\n",
            "Epoch 8/25\n",
            "4/4 [==============================] - 1s 292ms/step - loss: 0.0123 - accuracy: 1.0000 - val_loss: 5.9266 - val_accuracy: 0.3214\n",
            "Epoch 9/25\n",
            "4/4 [==============================] - 1s 276ms/step - loss: 0.0065 - accuracy: 1.0000 - val_loss: 5.3846 - val_accuracy: 0.3214\n",
            "Epoch 10/25\n",
            "4/4 [==============================] - 1s 326ms/step - loss: 0.0058 - accuracy: 1.0000 - val_loss: 5.0422 - val_accuracy: 0.3214\n",
            "Epoch 11/25\n",
            "4/4 [==============================] - 2s 492ms/step - loss: 0.0046 - accuracy: 1.0000 - val_loss: 4.6077 - val_accuracy: 0.3214\n",
            "Epoch 12/25\n",
            "4/4 [==============================] - 2s 469ms/step - loss: 0.0043 - accuracy: 1.0000 - val_loss: 4.1829 - val_accuracy: 0.3214\n",
            "Epoch 13/25\n",
            "4/4 [==============================] - 1s 327ms/step - loss: 0.0033 - accuracy: 1.0000 - val_loss: 3.8286 - val_accuracy: 0.3929\n",
            "Epoch 14/25\n",
            "4/4 [==============================] - 1s 313ms/step - loss: 0.0032 - accuracy: 1.0000 - val_loss: 3.5218 - val_accuracy: 0.4286\n",
            "Epoch 15/25\n",
            "4/4 [==============================] - 1s 317ms/step - loss: 0.0018 - accuracy: 1.0000 - val_loss: 3.2435 - val_accuracy: 0.4286\n",
            "Epoch 16/25\n",
            "4/4 [==============================] - 1s 282ms/step - loss: 0.0042 - accuracy: 1.0000 - val_loss: 3.0001 - val_accuracy: 0.4286\n",
            "Epoch 17/25\n",
            "4/4 [==============================] - 1s 280ms/step - loss: 0.0029 - accuracy: 1.0000 - val_loss: 2.9815 - val_accuracy: 0.4286\n",
            "Epoch 18/25\n",
            "4/4 [==============================] - 1s 305ms/step - loss: 0.0020 - accuracy: 1.0000 - val_loss: 2.9160 - val_accuracy: 0.4286\n",
            "Epoch 19/25\n",
            "4/4 [==============================] - 1s 275ms/step - loss: 0.0016 - accuracy: 1.0000 - val_loss: 2.7739 - val_accuracy: 0.4286\n",
            "Epoch 20/25\n",
            "4/4 [==============================] - 1s 276ms/step - loss: 0.0017 - accuracy: 1.0000 - val_loss: 2.6292 - val_accuracy: 0.4286\n",
            "Epoch 21/25\n",
            "4/4 [==============================] - 1s 276ms/step - loss: 0.0018 - accuracy: 1.0000 - val_loss: 2.4674 - val_accuracy: 0.4286\n",
            "Epoch 22/25\n",
            "4/4 [==============================] - 2s 468ms/step - loss: 0.0017 - accuracy: 1.0000 - val_loss: 2.3516 - val_accuracy: 0.4286\n",
            "Epoch 23/25\n",
            "4/4 [==============================] - 2s 465ms/step - loss: 0.0016 - accuracy: 1.0000 - val_loss: 2.2164 - val_accuracy: 0.4286\n",
            "Epoch 24/25\n",
            "4/4 [==============================] - 1s 356ms/step - loss: 0.0014 - accuracy: 1.0000 - val_loss: 2.0827 - val_accuracy: 0.4286\n",
            "Epoch 25/25\n",
            "4/4 [==============================] - 1s 290ms/step - loss: 0.0020 - accuracy: 1.0000 - val_loss: 1.9506 - val_accuracy: 0.4286\n"
          ]
        }
      ]
    }
  ]
}